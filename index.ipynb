{
  "cells": [
    {
      "cell_type": "raw",
      "metadata": {},
      "source": [
        "---\n",
        "bibliography: references.bib\n",
        "---"
      ],
      "id": "79d60808"
    },
    {
      "cell_type": "markdown",
      "metadata": {},
      "source": [
        "# Overview {.unnumbered}\n",
        "\n",
        "[![](https://zenodo.org/badge/724236066.svg){fig-alt=\"DOI: 10.5281/zenodo.13133922\" fig-align=\"left\"}](https://zenodo.org/doi/10.5281/zenodo.13133922)\n",
        "\n",
        "This short book has been created as a resource for librarians at the University of Southampton. It aims to aggregate the most pertinent information available about how to create effective webpages for library users.\n",
        "\n",
        "As library webpages consist largely of text and links, text-based pages are the focus of this book.\n",
        "\n",
        "The scope does extend to images, but not to video or other media. However, most of the considerations that apply to images, apply to videos and other media.\n",
        "\n",
        "The material presented here encourages you to consider what we know about what works and why, rather than present a rigid framework that you must follow.\n",
        "\n",
        "The overarching questions under consideration are:\n",
        "\n",
        "-   What do we know about how users engage with webpages?\n",
        "\n",
        "-   What do we know about human cognition and behaviour that applies to webpage design?\n",
        "\n",
        "Our goal is to create webpages that work for library users, and in doing so resist the temptation to design for ourselves.\n",
        "\n",
        "### Citation\n",
        "\n",
        "Please cite this work as,\n",
        "\n",
        "> Bailey A, (2024). *Webpage Design*, <https://ab604.github.io/webpage-design/>\n",
        "\n",
        ":::{.callout-note title=\"Bibtex citation:\" appearance=\"simple\"}\n",
        "\n",
        "\n",
        "```{bibtex} \n",
        "\n",
        "@book{bailey2024,\n",
        "    title = {Webpage {Design},\n",
        "    copyright = {Creative Commons Attribution 4.0 International},\n",
        "    shorttitle = {ab604/webpage-design},\n",
        "    url = {https://zenodo.org/doi/10.5281/zenodo.13133922},\n",
        "    urldate = {2024-07-31},\n",
        "    publisher = {Zenodo},\n",
        "    author = {Alistair Bailey},\n",
        "    month = jul,\n",
        "    year = {2024},\n",
        "    doi = {10.5281/ZENODO.13133922},\n",
        "}\n",
        "```\n",
        "\n",
        "\n",
        ":::"
      ],
      "id": "1dff3c97"
    }
  ],
  "metadata": {
    "kernelspec": {
      "display_name": "Python 3",
      "language": "python",
      "name": "python3"
    }
  },
  "nbformat": 4,
  "nbformat_minor": 5
}